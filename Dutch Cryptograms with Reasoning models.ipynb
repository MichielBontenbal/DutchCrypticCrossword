{
 "cells": [
  {
   "cell_type": "markdown",
   "metadata": {},
   "source": [
    "# Dutch Cryptic Crosswords with Reasoning models\n",
    "\n",
    "How good are reasoning models in solving cryptic crosswords? \n",
    "\n",
    "We use the code in this repo to give it a test.\n",
    "\n",
    "This notebook will be updated with newer models.\n",
    "\n",
    "#### Contents\n",
    "0. Imports and settings\n",
    "1. Load and inpsect dataset\n",
    "2. Call OpenAI o1-preview"
   ]
  },
  {
   "cell_type": "markdown",
   "metadata": {},
   "source": [
    "## 0. Imports and settings"
   ]
  },
  {
   "cell_type": "code",
   "execution_count": 2,
   "metadata": {},
   "outputs": [],
   "source": [
    "import datasets\n",
    "import openai\n",
    "import os"
   ]
  },
  {
   "cell_type": "code",
   "execution_count": null,
   "metadata": {},
   "outputs": [],
   "source": [
    "#Initialize the OpenAI client \n",
    "import config\n",
    "\n",
    "os.environ['OPENAI_API_KEY'] = config.openai_key # replace with your API-key, but don't keep it in your source code :-)\n",
    "\n",
    "client = openai.Client()"
   ]
  },
  {
   "cell_type": "markdown",
   "metadata": {},
   "source": [
    "## 1. Load and inspect dataset"
   ]
  },
  {
   "cell_type": "code",
   "execution_count": null,
   "metadata": {},
   "outputs": [],
   "source": [
    "from datasets import load_dataset\n",
    "\n",
    "dataset = load_dataset(\"MichielBontenbal/DutchCrypticCrossword\", split='train')\n",
    "dataset"
   ]
  },
  {
   "cell_type": "code",
   "execution_count": null,
   "metadata": {},
   "outputs": [],
   "source": [
    "print(dataset['vraag'][0])\n",
    "print(dataset['antwoord'][0])"
   ]
  },
  {
   "cell_type": "markdown",
   "metadata": {},
   "source": [
    "## 2. Call OpenAI o1-preview\n"
   ]
  },
  {
   "cell_type": "code",
   "execution_count": 6,
   "metadata": {},
   "outputs": [],
   "source": [
    "#load a function\n",
    "def call_openai_function(client, prompt, model=\"o1-preview\"):\n",
    "    return client.chat.completions.create(\n",
    "        messages=[\n",
    "            {\n",
    "                \"role\": \"user\",\n",
    "                \"content\": prompt,\n",
    "            }\n",
    "        ],\n",
    "        model=model,\n",
    "    )"
   ]
  },
  {
   "cell_type": "code",
   "execution_count": 7,
   "metadata": {},
   "outputs": [],
   "source": [
    "#setting the system prompt\n",
    "system_prompt = 'Je bent een expert in het beantwoorden van cryptogrammen. Beantwoord de vraag van het cryptogram. Tussen de haakjes staat het aantal letters van het antwoord. Een voorbeeld: (5) betekent dat het antwoord 5 letters heeft. Geef alleen het antwoord geen andere tekst. De vraag is: '\n"
   ]
  },
  {
   "cell_type": "code",
   "execution_count": null,
   "metadata": {},
   "outputs": [],
   "source": [
    "openai_o1_list = []\n",
    "for i in range(len(dataset['vraag'])):\n",
    "    promptvraag = dataset['vraag'][i]\n",
    "    prompt = system_prompt + promptvraag\n",
    "    chat_completion = call_openai_function(client, prompt, model=\"o1-preview\")\n",
    "    print(chat_completion.choices[0].message.content)\n",
    "    openai_o1_list.append(chat_completion.choices[0].message.content)\n",
    "    "
   ]
  },
  {
   "cell_type": "code",
   "execution_count": null,
   "metadata": {},
   "outputs": [],
   "source": [
    "for i in range(len(dataset['vraag'])):\n",
    "    print(dataset['antwoord'][i])"
   ]
  },
  {
   "cell_type": "code",
   "execution_count": null,
   "metadata": {},
   "outputs": [],
   "source": [
    "for i in range(len(openai_o1_list)):\n",
    "    if openai_o1_list[i].lower() == dataset['antwoord'][i].lower():\n",
    "        print('yes')\n",
    "    else:\n",
    "        print('no')"
   ]
  },
  {
   "cell_type": "code",
   "execution_count": null,
   "metadata": {},
   "outputs": [],
   "source": [
    "my_dict = dataset[0:86]\n",
    "my_dict['antwoord']\n"
   ]
  },
  {
   "cell_type": "code",
   "execution_count": 28,
   "metadata": {},
   "outputs": [],
   "source": [
    "my_dict[\"response\"] = openai_o1_list\n",
    "#my_dict = my_dict.assign(response=openai_o1_list)\n",
    "#my_dict.add_column(\"response\", openai_o1_list)"
   ]
  },
  {
   "cell_type": "code",
   "execution_count": null,
   "metadata": {},
   "outputs": [],
   "source": [
    "my_dict['response']"
   ]
  },
  {
   "cell_type": "code",
   "execution_count": null,
   "metadata": {},
   "outputs": [],
   "source": [
    "import json\n",
    "\n",
    "json_string = json.dumps(my_dict)\n",
    "print(json_string)\n",
    "with open('openai_o1_20250103.json', 'w') as outfile:\n",
    "    json.dump(my_dict, outfile, indent=4)"
   ]
  },
  {
   "cell_type": "markdown",
   "metadata": {},
   "source": [
    "## 3. To do: Call QwQ 01"
   ]
  },
  {
   "cell_type": "markdown",
   "metadata": {},
   "source": []
  }
 ],
 "metadata": {
  "kernelspec": {
   "display_name": "base",
   "language": "python",
   "name": "python3"
  },
  "language_info": {
   "codemirror_mode": {
    "name": "ipython",
    "version": 3
   },
   "file_extension": ".py",
   "mimetype": "text/x-python",
   "name": "python",
   "nbconvert_exporter": "python",
   "pygments_lexer": "ipython3",
   "version": "3.12.7"
  }
 },
 "nbformat": 4,
 "nbformat_minor": 2
}
